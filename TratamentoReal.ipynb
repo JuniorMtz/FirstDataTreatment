{
 "cells": [
  {
   "cell_type": "code",
   "execution_count": 1,
   "id": "9b98e64f-e9ef-4366-9029-a92d88aa0535",
   "metadata": {
    "pycharm": {
     "is_executing": true
    }
   },
   "outputs": [],
   "source": [
    "import pandas as pd\n",
    "import numpy as np"
   ]
  },
  {
   "cell_type": "code",
   "execution_count": 8,
   "id": "2e640f38-8997-4074-93d5-8efe7f5e4d3b",
   "metadata": {},
   "outputs": [],
   "source": [
    "c_abrangencia = ( 0, 1, 2, 3, 4, 5, 6, 7, 8, 9,\n",
    "                 10, 11, 12, 13, 14, 15, 16, 17, 18, 19,\n",
    "                 20, 21, 22, 23, 24, 25, 26, 27, 28, 29,\n",
    "                 30, 31, 32, 33, 34, 35, 36, 37, 38, 39,\n",
    "                 40, 41, 42, 43, 44, 45, 46, 47, 48, 49,\n",
    "                 50, 51, 52, 53, 54, 55, 56, 57, 58, 59,\n",
    "                 60, 61, 62, 63, 64, 65, 66, 67, 68, 69,\n",
    "                 70, 71, 72, 73, 74, 75, 76)\n",
    "\n",
    "\n",
    "c_respostas = (0, 17, 18, 19, 20, 21, 22, 23, 24, 25,\n",
    "               26, 27, 28, 29, 30, 31, 32, 33, 34, 35,\n",
    "               36, 37, 38, 39, 40, 41, 42, 43, 44, 45,\n",
    "               46, 47, 48, 49, 50, 51, 52, 53, 54, 55,\n",
    "               56, 57, 58, 59, 60, 61, 62, 63, 64, 65,\n",
    "               66, 67, 68, 69, 70, 71, 72, 73, 74, 75,\n",
    "               76, 77, 78, 79, 80, 81, 82, 83, 84, 85,\n",
    "               86, 87, 88, 89, 90, 91, 92)"
   ]
  },
  {
   "cell_type": "code",
   "execution_count": 9,
   "id": "0b3888c9-20f2-4859-9efa-ca9ed66bc511",
   "metadata": {},
   "outputs": [
    {
     "name": "stdout",
     "output_type": "stream",
     "text": [
      "Início do processamento das respostas\n",
      "Processamento concluído com sucesso!\n"
     ]
    }
   ],
   "source": [
    "print(\"Início do processamento das respostas\")\n",
    "df_respostas = pd.read_excel('D:/WORKSPACE/Testes/DVMT_RESPOSTAS.xlsx', sheet_name = 'Sheet1', usecols = c_respostas )\n",
    "print(\"Processamento concluído com sucesso!\")\n",
    "df_respostas.replace(\"Não Sei\", \"-1\", inplace=True)\n",
    "df_respostas.replace(\"N/A.\", \"-1\", inplace=True)\n",
    "df_respostas.replace(\"Não sei\", \"-1\", inplace=True)\n",
    "df_respostas.replace(\"nao sei\", \"-1\", inplace=True)\n",
    "df_respostas.replace(\"Não\", \"-2\", inplace=True)\n",
    "df_respostas.replace(\"Nunca\", \"-3\", inplace=True)\n",
    "df_respostas.replace(\"Poucas vezes\", \"-4\", inplace=True)\n",
    "df_respostas.replace(\"Poucas Vezes\", \"-4\", inplace=True)\n",
    "df_respostas.replace(\"Frequentemente\", \"-5\", inplace=True)\n",
    "df_respostas.replace(\"Sempre\", \"-6\", inplace=True)\n",
    "df_respostas.replace(\"Sim\", \"-7\", inplace=True)\n",
    "df_respostas.loc[df_respostas['[ALL] Indique pelo menos um link de dashboard de indicadores/KPIs do seu produto\\n'].notnull(), '[ALL] Indique pelo menos um link de dashboard de indicadores/KPIs do seu produto\\n'] = 1\n",
    "df_respostas['[ALL] Indique pelo menos um link de dashboard de indicadores/KPIs do seu produto\\n'].fillna(0, inplace=True)\n",
    "df_respostas.fillna(0, inplace=True)\n",
    "df_respostas = df_respostas.astype(int)\n",
    "df_respostas.to_excel(\"Tabela de respostas.xlsx\", index = False)"
   ]
  },
  {
   "cell_type": "code",
   "execution_count": 10,
   "id": "7db3022b-e243-4c4c-8a5a-8c6fccb37d5e",
   "metadata": {},
   "outputs": [
    {
     "name": "stdout",
     "output_type": "stream",
     "text": [
      "Início do processamento da abrangência\n",
      "Processamento concluído com sucesso!\n"
     ]
    }
   ],
   "source": [
    "print(\"Início do processamento da abrangência\")\n",
    "df_abrangencia = pd.read_excel ('D:/WORKSPACE/Testes/Métricas.xlsx', sheet_name = 'Flor (2)', usecols = c_abrangencia)\n",
    "print(\"Processamento concluído com sucesso!\")\n",
    "df_abrangencia.replace(\"Não sei\", \"-1\", inplace=True)\n",
    "df_abrangencia.replace(\"Não\", \"-2\", inplace=True)\n",
    "df_abrangencia.replace(\"Nunca\", \"-3\", inplace=True)\n",
    "df_abrangencia.replace(\"Poucas Vezes\", \"-4\", inplace=True)\n",
    "df_abrangencia.replace(\"Frequentemente\", \"-5\", inplace=True)\n",
    "df_abrangencia.replace(\"Sempre\", \"-6\", inplace=True)\n",
    "df_abrangencia.replace(\"Sim\", \"-7\", inplace=True)\n",
    "df_abrangencia.fillna(0, inplace=True)\n",
    "df_abrangencia.to_excel(\"Tabela de abrangencia.xlsx\", index = False)"
   ]
  },
  {
   "cell_type": "code",
   "execution_count": 11,
   "id": "8d0c1c79-c98a-4d5f-b56a-02d432dfb98f",
   "metadata": {},
   "outputs": [
    {
     "name": "stdout",
     "output_type": "stream",
     "text": [
      "Início do processamento do df a partir dos dados informados\n",
      "Processamento concluído com sucesso!\n"
     ]
    }
   ],
   "source": [
    "print(\"Início do processamento do df a partir dos dados informados\")\n",
    "\n",
    "c_abrangencia = ['ID', 'Abrang_resp_1', 'Abrang_resp_2', 'Abrang_resp_3', 'Abrang_resp_4', 'Abrang_resp_5', 'Abrang_resp_6', 'Abrang_resp_7',\n",
    "                'Abrang_resp_8', 'Abrang_resp_9', 'Abrang_resp_10', 'Abrang_resp_11', 'Abrang_resp_12', 'Abrang_resp_13', 'Abrang_resp_14', 'Abrang_resp_15',\n",
    "                'Abrang_resp_16', 'Abrang_resp_17', 'Abrang_resp_18', 'Abrang_resp_19', 'Abrang_resp_20', 'Abrang_resp_21', 'Abrang_resp_22', 'Abrang_resp_23',\n",
    "                 'Abrang_resp_24', 'Abrang_resp_25', 'Abrang_resp_26', 'Abrang_resp_27', 'Abrang_resp_28', 'Abrang_resp_29', 'Abrang_resp_30', 'Abrang_resp_31',\n",
    "                 'Abrang_resp_32', 'Abrang_resp_33', 'Abrang_resp_34', 'Abrang_resp_35', 'Abrang_resp_36', 'Abrang_resp_37', 'Abrang_resp_38', 'Abrang_resp_39',\n",
    "                 'Abrang_resp_40', 'Abrang_resp_41', 'Abrang_resp_42', 'Abrang_resp_43', 'Abrang_resp_44', 'Abrang_resp_45', 'Abrang_resp_46', 'Abrang_resp_47',\n",
    "                 'Abrang_resp_48', 'Abrang_resp_49', 'Abrang_resp_50', 'Abrang_resp_51', 'Abrang_resp_52', 'Abrang_resp_53', 'Abrang_resp_54', 'Abrang_resp_55',\n",
    "                 'Abrang_resp_56', 'Abrang_resp_57', 'Abrang_resp_58', 'Abrang_resp_59', 'Abrang_resp_60', 'Abrang_resp_61', 'Abrang_resp_62', 'Abrang_resp_63',\n",
    "                 'Abrang_resp_64', 'Abrang_resp_65', 'Abrang_resp_66', 'Abrang_resp_67', 'Abrang_resp_68', 'Abrang_resp_69', 'Abrang_resp_70', 'Abrang_resp_71',\n",
    "                 'Abrang_resp_72', 'Abrang_resp_73', 'Abrang_resp_74', 'Abrang_resp_75', 'Abrang_resp_76']\n",
    "\n",
    "\n",
    "df_id_abrangencia = pd.DataFrame(columns= c_abrangencia)\n",
    "df_id_abrangencia['ID'] = df_respostas['ID']\n",
    "df_id_abrangencia.iloc[:, 1:78] = 0\n",
    "df_id_abrangencia = df_id_abrangencia.astype(int)\n",
    "print(\"Processamento concluído com sucesso!\")\n",
    "df_id_abrangencia.to_excel(\"Tabela com abrangências.xlsx\", index = False)"
   ]
  },
  {
   "cell_type": "code",
   "execution_count": 12,
   "id": "8ddd5340-fffb-4726-aaf8-0c3d1167670a",
   "metadata": {
    "tags": []
   },
   "outputs": [],
   "source": [
    "resp_123 = [-1, -2, -3]\n",
    "resp_7 = [-7]\n",
    "resp_6 = [-6]\n",
    "resp_4 = [-4]\n",
    "resp_5 = [-5]"
   ]
  },
  {
   "cell_type": "code",
   "execution_count": 13,
   "id": "9391e06b-2ae6-487b-ae38-b4b2887f4df6",
   "metadata": {
    "tags": []
   },
   "outputs": [],
   "source": [
    "for index, row in df_respostas.iterrows():\n",
    "    if row[1] in resp_7:\n",
    "        df_id_abrangencia.loc[index, 'Abrang_resp_1'] = df_abrangencia.iloc[6, 1]\n",
    "    if row[1] in resp_6:\n",
    "        df_id_abrangencia.loc[index, 'Abrang_resp_1'] = df_abrangencia.iloc[5, 1]\n",
    "    if row[1] in resp_5:\n",
    "        df_id_abrangencia.loc[index, 'Abrang_resp_1'] = df_abrangencia.iloc[4, 1]\n",
    "    if row[1] in resp_4:\n",
    "        df_id_abrangencia.loc[index, 'Abrang_resp_1'] = df_abrangencia.iloc[3, 1]\n",
    "    if row[1] in resp_123:\n",
    "        df_id_abrangencia.loc[index, 'Abrang_resp_1'] = df_abrangencia.iloc[0, 1]"
   ]
  },
  {
   "cell_type": "code",
   "execution_count": 14,
   "id": "2067f12e-afa5-4d45-9685-f84ae73181c6",
   "metadata": {},
   "outputs": [],
   "source": [
    "for index, row in df_respostas.iterrows():\n",
    "    if row[2] in resp_7:\n",
    "        df_id_abrangencia.loc[index, 'Abrang_resp_2'] = df_abrangencia.iloc[6, 2]\n",
    "    if row[2] in resp_6:\n",
    "        df_id_abrangencia.loc[index, 'Abrang_resp_2'] = df_abrangencia.iloc[5, 2]\n",
    "    if row[2] in resp_5:\n",
    "        df_id_abrangencia.loc[index, 'Abrang_resp_2'] = df_abrangencia.iloc[4, 2]\n",
    "    if row[2] in resp_4:\n",
    "        df_id_abrangencia.loc[index, 'Abrang_resp_2'] = df_abrangencia.iloc[3, 2]\n",
    "    if row[2] in resp_123:\n",
    "        df_id_abrangencia.loc[index, 'Abrang_resp_2'] = df_abrangencia.iloc[0, 2]"
   ]
  },
  {
   "cell_type": "code",
   "execution_count": 15,
   "id": "5c572029-4225-4ce5-be6a-2d07fc2a99cd",
   "metadata": {},
   "outputs": [],
   "source": [
    "for index, row in df_respostas.iterrows():\n",
    "    if row[3] in resp_7:\n",
    "        df_id_abrangencia.loc[index, 'Abrang_resp_3'] = df_abrangencia.iloc[6, 3]\n",
    "    if row[3] in resp_6:\n",
    "        df_id_abrangencia.loc[index, 'Abrang_resp_3'] = df_abrangencia.iloc[5, 3]\n",
    "    if row[3] in resp_5:\n",
    "        df_id_abrangencia.loc[index, 'Abrang_resp_3'] = df_abrangencia.iloc[4, 3]\n",
    "    if row[3] in resp_4:\n",
    "        df_id_abrangencia.loc[index, 'Abrang_resp_3'] = df_abrangencia.iloc[3, 3]\n",
    "    if row[3] in resp_123:\n",
    "        df_id_abrangencia.loc[index, 'Abrang_resp_3'] = df_abrangencia.iloc[0, 3]"
   ]
  },
  {
   "cell_type": "code",
   "execution_count": 16,
   "id": "a6607591-bd4a-4258-a3c3-d44b10e58b94",
   "metadata": {},
   "outputs": [],
   "source": [
    "for index, row in df_respostas.iterrows():\n",
    "    if row[4] in resp_7:\n",
    "        df_id_abrangencia.loc[index, 'Abrang_resp_4'] = df_abrangencia.iloc[6, 4]\n",
    "    if row[4] in resp_6:\n",
    "        df_id_abrangencia.loc[index, 'Abrang_resp_4'] = df_abrangencia.iloc[5, 4]\n",
    "    if row[4] in resp_5:\n",
    "        df_id_abrangencia.loc[index, 'Abrang_resp_4'] = df_abrangencia.iloc[4, 4]\n",
    "    if row[4] in resp_4:\n",
    "        df_id_abrangencia.loc[index, 'Abrang_resp_4'] = df_abrangencia.iloc[3, 4]\n",
    "    if row[4] in resp_123:\n",
    "        df_id_abrangencia.loc[index, 'Abrang_resp_4'] = df_abrangencia.iloc[0, 4]"
   ]
  },
  {
   "cell_type": "code",
   "execution_count": 17,
   "id": "5d9b93c2-6e1f-4e96-bebb-996861272395",
   "metadata": {},
   "outputs": [],
   "source": [
    "for index, row in df_respostas.iterrows():\n",
    "    if row[5] in resp_7:\n",
    "        df_id_abrangencia.loc[index, 'Abrang_resp_5'] = df_abrangencia.iloc[6, 5]\n",
    "    if row[5] in resp_6:\n",
    "        df_id_abrangencia.loc[index, 'Abrang_resp_5'] = df_abrangencia.iloc[5, 5]\n",
    "    if row[5] in resp_5:\n",
    "        df_id_abrangencia.loc[index, 'Abrang_resp_5'] = df_abrangencia.iloc[4, 5]\n",
    "    if row[5] in resp_4:\n",
    "        df_id_abrangencia.loc[index, 'Abrang_resp_5'] = df_abrangencia.iloc[3, 5]\n",
    "    if row[5] in resp_123:\n",
    "        df_id_abrangencia.loc[index, 'Abrang_resp_5'] = df_abrangencia.iloc[0, 5]"
   ]
  },
  {
   "cell_type": "code",
   "execution_count": 18,
   "id": "7dd72c5d-0805-4950-931d-485e1fa4e803",
   "metadata": {},
   "outputs": [],
   "source": [
    "for index, row in df_respostas.iterrows():\n",
    "    if row[6] in resp_7:\n",
    "        df_id_abrangencia.loc[index, 'Abrang_resp_6'] = df_abrangencia.iloc[6, 6]\n",
    "    if row[6] in resp_6:\n",
    "        df_id_abrangencia.loc[index, 'Abrang_resp_6'] = df_abrangencia.iloc[5, 6]\n",
    "    if row[6] in resp_5:\n",
    "        df_id_abrangencia.loc[index, 'Abrang_resp_6'] = df_abrangencia.iloc[4, 6]\n",
    "    if row[6] in resp_4:\n",
    "        df_id_abrangencia.loc[index, 'Abrang_resp_6'] = df_abrangencia.iloc[3, 6]\n",
    "    if row[6] in resp_123:\n",
    "        df_id_abrangencia.loc[index, 'Abrang_resp_6'] = df_abrangencia.iloc[0, 6]"
   ]
  },
  {
   "cell_type": "code",
   "execution_count": 19,
   "id": "64140bec-b550-4ce0-9837-b5eb5d0714f2",
   "metadata": {},
   "outputs": [],
   "source": [
    "for index, row in df_respostas.iterrows():\n",
    "    if row[7] in resp_7:\n",
    "        df_id_abrangencia.loc[index, 'Abrang_resp_7'] = df_abrangencia.iloc[6, 7]\n",
    "    if row[7] in resp_6:\n",
    "        df_id_abrangencia.loc[index, 'Abrang_resp_7'] = df_abrangencia.iloc[5, 7]\n",
    "    if row[7] in resp_5:\n",
    "        df_id_abrangencia.loc[index, 'Abrang_resp_7'] = df_abrangencia.iloc[4, 7]\n",
    "    if row[7] in resp_4:\n",
    "        df_id_abrangencia.loc[index, 'Abrang_resp_7'] = df_abrangencia.iloc[3, 7]\n",
    "    if row[7] in resp_123:\n",
    "        df_id_abrangencia.loc[index, 'Abrang_resp_7'] = df_abrangencia.iloc[0, 7]"
   ]
  },
  {
   "cell_type": "code",
   "execution_count": 20,
   "id": "3adb41e7-48c1-4be9-9c15-475c080b5974",
   "metadata": {},
   "outputs": [],
   "source": [
    "for index, row in df_respostas.iterrows():\n",
    "    if row[8] in resp_7:\n",
    "        df_id_abrangencia.loc[index, 'Abrang_resp_8'] = df_abrangencia.iloc[6, 8]\n",
    "    if row[8] in resp_6:\n",
    "        df_id_abrangencia.loc[index, 'Abrang_resp_8'] = df_abrangencia.iloc[5, 8]\n",
    "    if row[8] in resp_5:\n",
    "        df_id_abrangencia.loc[index, 'Abrang_resp_8'] = df_abrangencia.iloc[4, 8]\n",
    "    if row[8] in resp_4:\n",
    "        df_id_abrangencia.loc[index, 'Abrang_resp_8'] = df_abrangencia.iloc[3, 8]\n",
    "    if row[8] in resp_123:\n",
    "        df_id_abrangencia.loc[index, 'Abrang_resp_8'] = df_abrangencia.iloc[0, 8]"
   ]
  },
  {
   "cell_type": "code",
   "execution_count": 21,
   "id": "9491155c-d51e-4dce-9d2b-c293d7a5251d",
   "metadata": {},
   "outputs": [],
   "source": [
    "for index, row in df_respostas.iterrows():\n",
    "    if row[9] in resp_7:\n",
    "        df_id_abrangencia.loc[index, 'Abrang_resp_9'] = df_abrangencia.iloc[6, 9]\n",
    "    if row[9] in resp_6:\n",
    "        df_id_abrangencia.loc[index, 'Abrang_resp_9'] = df_abrangencia.iloc[5, 9]\n",
    "    if row[9] in resp_5:\n",
    "        df_id_abrangencia.loc[index, 'Abrang_resp_9'] = df_abrangencia.iloc[4, 9]\n",
    "    if row[9] in resp_4:\n",
    "        df_id_abrangencia.loc[index, 'Abrang_resp_9'] = df_abrangencia.iloc[3, 9]\n",
    "    if row[9] in resp_123:\n",
    "        df_id_abrangencia.loc[index, 'Abrang_resp_9'] = df_abrangencia.iloc[0, 9]"
   ]
  },
  {
   "cell_type": "code",
   "execution_count": 22,
   "id": "57f4af32-74c9-4545-985c-6b5c8aaf6744",
   "metadata": {},
   "outputs": [],
   "source": [
    "for index, row in df_respostas.iterrows():\n",
    "    if row[10] in resp_7:\n",
    "        df_id_abrangencia.loc[index, 'Abrang_resp_10'] = df_abrangencia.iloc[6, 10]\n",
    "    if row[10] in resp_6:\n",
    "        df_id_abrangencia.loc[index, 'Abrang_resp_10'] = df_abrangencia.iloc[5, 10]\n",
    "    if row[10] in resp_5:\n",
    "        df_id_abrangencia.loc[index, 'Abrang_resp_10'] = df_abrangencia.iloc[4, 10]\n",
    "    if row[10] in resp_4:\n",
    "        df_id_abrangencia.loc[index, 'Abrang_resp_10'] = df_abrangencia.iloc[3, 10]\n",
    "    if row[10] in resp_123:\n",
    "        df_id_abrangencia.loc[index, 'Abrang_resp_10'] = df_abrangencia.iloc[0, 10]"
   ]
  },
  {
   "cell_type": "code",
   "execution_count": 23,
   "id": "99c29cb0-ffd9-4f6f-803f-e8def8d4e4c3",
   "metadata": {},
   "outputs": [],
   "source": [
    "for index, row in df_respostas.iterrows():\n",
    "    if row[11] in resp_7:\n",
    "        df_id_abrangencia.loc[index, 'Abrang_resp_11'] = df_abrangencia.iloc[6, 11]\n",
    "    if row[11] in resp_6:\n",
    "        df_id_abrangencia.loc[index, 'Abrang_resp_11'] = df_abrangencia.iloc[5, 11]\n",
    "    if row[11] in resp_5:\n",
    "        df_id_abrangencia.loc[index, 'Abrang_resp_11'] = df_abrangencia.iloc[4, 11]\n",
    "    if row[11] in resp_4:\n",
    "        df_id_abrangencia.loc[index, 'Abrang_resp_11'] = df_abrangencia.iloc[3, 11]\n",
    "    if row[11] in resp_123:\n",
    "        df_id_abrangencia.loc[index, 'Abrang_resp_11'] = df_abrangencia.iloc[0, 11]"
   ]
  },
  {
   "cell_type": "code",
   "execution_count": 24,
   "id": "a07757f7-e72a-465b-a70a-c665027d9e32",
   "metadata": {},
   "outputs": [],
   "source": [
    "for index, row in df_respostas.iterrows():\n",
    "    if row[12] in resp_7:\n",
    "        df_id_abrangencia.loc[index, 'Abrang_resp_12'] = df_abrangencia.iloc[6, 12]\n",
    "    if row[12] in resp_6:\n",
    "        df_id_abrangencia.loc[index, 'Abrang_resp_12'] = df_abrangencia.iloc[5, 12]\n",
    "    if row[12] in resp_5:\n",
    "        df_id_abrangencia.loc[index, 'Abrang_resp_12'] = df_abrangencia.iloc[4, 12]\n",
    "    if row[12] in resp_4:\n",
    "        df_id_abrangencia.loc[index, 'Abrang_resp_12'] = df_abrangencia.iloc[3, 12]\n",
    "    if row[12] in resp_123:\n",
    "        df_id_abrangencia.loc[index, 'Abrang_resp_12'] = df_abrangencia.iloc[0, 12]"
   ]
  },
  {
   "cell_type": "code",
   "execution_count": 25,
   "id": "8cc284d2-893d-4e6c-9e9f-1d6492cc23ce",
   "metadata": {},
   "outputs": [],
   "source": [
    "for index, row in df_respostas.iterrows():\n",
    "    if row[13] in resp_7:\n",
    "        df_id_abrangencia.loc[index, 'Abrang_resp_13'] = df_abrangencia.iloc[6, 13]\n",
    "    if row[13] in resp_6:\n",
    "        df_id_abrangencia.loc[index, 'Abrang_resp_13'] = df_abrangencia.iloc[5, 13]\n",
    "    if row[13] in resp_5:\n",
    "        df_id_abrangencia.loc[index, 'Abrang_resp_13'] = df_abrangencia.iloc[4, 13]\n",
    "    if row[13] in resp_4:\n",
    "        df_id_abrangencia.loc[index, 'Abrang_resp_13'] = df_abrangencia.iloc[3, 13]\n",
    "    if row[13] in resp_123:\n",
    "        df_id_abrangencia.loc[index, 'Abrang_resp_13'] = df_abrangencia.iloc[0, 13]"
   ]
  },
  {
   "cell_type": "code",
   "execution_count": 26,
   "id": "2b062354-0264-4b01-9572-e9ebfbe39124",
   "metadata": {},
   "outputs": [],
   "source": [
    "for index, row in df_respostas.iterrows():\n",
    "    if row[14] in resp_7:\n",
    "        df_id_abrangencia.loc[index, 'Abrang_resp_14'] = df_abrangencia.iloc[6, 14]\n",
    "    if row[14] in resp_6:\n",
    "        df_id_abrangencia.loc[index, 'Abrang_resp_14'] = df_abrangencia.iloc[5, 14]\n",
    "    if row[14] in resp_5:\n",
    "        df_id_abrangencia.loc[index, 'Abrang_resp_14'] = df_abrangencia.iloc[4, 14]\n",
    "    if row[14] in resp_4:\n",
    "        df_id_abrangencia.loc[index, 'Abrang_resp_14'] = df_abrangencia.iloc[3, 14]\n",
    "    if row[14] in resp_123:\n",
    "        df_id_abrangencia.loc[index, 'Abrang_resp_14'] = df_abrangencia.iloc[0, 14]"
   ]
  },
  {
   "cell_type": "code",
   "execution_count": 27,
   "id": "00d98c56-0874-4971-808c-9409a36e4919",
   "metadata": {},
   "outputs": [],
   "source": [
    "for index, row in df_respostas.iterrows():\n",
    "    if row[15] in resp_7:\n",
    "        df_id_abrangencia.loc[index, 'Abrang_resp_15'] = df_abrangencia.iloc[6, 15]\n",
    "    if row[15] in resp_6:\n",
    "        df_id_abrangencia.loc[index, 'Abrang_resp_15'] = df_abrangencia.iloc[5, 15]\n",
    "    if row[15] in resp_5:\n",
    "        df_id_abrangencia.loc[index, 'Abrang_resp_15'] = df_abrangencia.iloc[4, 15]\n",
    "    if row[15] in resp_4:\n",
    "        df_id_abrangencia.loc[index, 'Abrang_resp_15'] = df_abrangencia.iloc[3, 15]\n",
    "    if row[15] in resp_123:\n",
    "        df_id_abrangencia.loc[index, 'Abrang_resp_15'] = df_abrangencia.iloc[0, 15]"
   ]
  },
  {
   "cell_type": "code",
   "execution_count": 28,
   "id": "ae59dca4-0181-4d2f-880a-dfb4d8f9793e",
   "metadata": {},
   "outputs": [],
   "source": [
    "for index, row in df_respostas.iterrows():\n",
    "    if row[16] in resp_7:\n",
    "        df_id_abrangencia.loc[index, 'Abrang_resp_16'] = df_abrangencia.iloc[6, 16]\n",
    "    if row[16] in resp_6:\n",
    "        df_id_abrangencia.loc[index, 'Abrang_resp_16'] = df_abrangencia.iloc[5, 16]\n",
    "    if row[16] in resp_5:\n",
    "        df_id_abrangencia.loc[index, 'Abrang_resp_16'] = df_abrangencia.iloc[4, 16]\n",
    "    if row[16] in resp_4:\n",
    "        df_id_abrangencia.loc[index, 'Abrang_resp_16'] = df_abrangencia.iloc[3, 16]\n",
    "    if row[16] in resp_123:\n",
    "        df_id_abrangencia.loc[index, 'Abrang_resp_16'] = df_abrangencia.iloc[0, 16]"
   ]
  },
  {
   "cell_type": "code",
   "execution_count": 29,
   "id": "e53f3e87-28b0-4cd0-b459-e750c08edd58",
   "metadata": {},
   "outputs": [],
   "source": [
    "for index, row in df_respostas.iterrows():\n",
    "    if row[17] in resp_7:\n",
    "        df_id_abrangencia.loc[index, 'Abrang_resp_17'] = df_abrangencia.iloc[6, 17]\n",
    "    if row[17] in resp_6:\n",
    "        df_id_abrangencia.loc[index, 'Abrang_resp_17'] = df_abrangencia.iloc[5, 17]\n",
    "    if row[17] in resp_5:\n",
    "        df_id_abrangencia.loc[index, 'Abrang_resp_17'] = df_abrangencia.iloc[4, 17]\n",
    "    if row[17] in resp_4:\n",
    "        df_id_abrangencia.loc[index, 'Abrang_resp_17'] = df_abrangencia.iloc[3, 17]\n",
    "    if row[17] in resp_123:\n",
    "        df_id_abrangencia.loc[index, 'Abrang_resp_17'] = df_abrangencia.iloc[0, 17]"
   ]
  },
  {
   "cell_type": "code",
   "execution_count": 30,
   "id": "7850392d-98e9-41b6-8cbb-7d4dee1a937a",
   "metadata": {},
   "outputs": [],
   "source": [
    "for index, row in df_respostas.iterrows():\n",
    "    if row[18] in resp_7:\n",
    "        df_id_abrangencia.loc[index, 'Abrang_resp_18'] = df_abrangencia.iloc[6, 18]\n",
    "    if row[18] in resp_6:\n",
    "        df_id_abrangencia.loc[index, 'Abrang_resp_18'] = df_abrangencia.iloc[5, 18]\n",
    "    if row[18] in resp_5:\n",
    "        df_id_abrangencia.loc[index, 'Abrang_resp_18'] = df_abrangencia.iloc[4, 18]\n",
    "    if row[18] in resp_4:\n",
    "        df_id_abrangencia.loc[index, 'Abrang_resp_18'] = df_abrangencia.iloc[3, 18]\n",
    "    if row[18] in resp_123:\n",
    "        df_id_abrangencia.loc[index, 'Abrang_resp_18'] = df_abrangencia.iloc[0, 18]"
   ]
  },
  {
   "cell_type": "code",
   "execution_count": 31,
   "id": "35107034-8bb4-4110-8ed9-4e392d00b823",
   "metadata": {},
   "outputs": [],
   "source": [
    "for index, row in df_respostas.iterrows():\n",
    "    if row[19] in resp_7:\n",
    "        df_id_abrangencia.loc[index, 'Abrang_resp_19'] = df_abrangencia.iloc[6, 19]\n",
    "    if row[19] in resp_6:\n",
    "        df_id_abrangencia.loc[index, 'Abrang_resp_19'] = df_abrangencia.iloc[5, 19]\n",
    "    if row[19] in resp_5:\n",
    "        df_id_abrangencia.loc[index, 'Abrang_resp_19'] = df_abrangencia.iloc[4, 19]\n",
    "    if row[19] in resp_4:\n",
    "        df_id_abrangencia.loc[index, 'Abrang_resp_19'] = df_abrangencia.iloc[3, 19]\n",
    "    if row[19] in resp_123:\n",
    "        df_id_abrangencia.loc[index, 'Abrang_resp_19'] = df_abrangencia.iloc[0, 19]"
   ]
  },
  {
   "cell_type": "code",
   "execution_count": 32,
   "id": "b8d52cdb-4559-41f3-a860-d267e2612697",
   "metadata": {},
   "outputs": [],
   "source": [
    "for index, row in df_respostas.iterrows():\n",
    "    if row[20] in resp_7:\n",
    "        df_id_abrangencia.loc[index, 'Abrang_resp_20'] = df_abrangencia.iloc[6, 20]\n",
    "    if row[20] in resp_6:\n",
    "        df_id_abrangencia.loc[index, 'Abrang_resp_20'] = df_abrangencia.iloc[5, 20]\n",
    "    if row[20] in resp_5:\n",
    "        df_id_abrangencia.loc[index, 'Abrang_resp_20'] = df_abrangencia.iloc[4, 20]\n",
    "    if row[20] in resp_4:\n",
    "        df_id_abrangencia.loc[index, 'Abrang_resp_20'] = df_abrangencia.iloc[3, 20]\n",
    "    if row[20] in resp_123:\n",
    "        df_id_abrangencia.loc[index, 'Abrang_resp_20'] = df_abrangencia.iloc[0, 20]"
   ]
  },
  {
   "cell_type": "code",
   "execution_count": 33,
   "id": "d275a00c-38ee-4c9e-945e-250ac0894311",
   "metadata": {},
   "outputs": [],
   "source": [
    "for index, row in df_respostas.iterrows():\n",
    "    if row[21] in resp_7:\n",
    "        df_id_abrangencia.loc[index, 'Abrang_resp_21'] = df_abrangencia.iloc[6, 21]\n",
    "    if row[21] in resp_6:\n",
    "        df_id_abrangencia.loc[index, 'Abrang_resp_21'] = df_abrangencia.iloc[5, 21]\n",
    "    if row[21] in resp_5:\n",
    "        df_id_abrangencia.loc[index, 'Abrang_resp_21'] = df_abrangencia.iloc[4, 21]\n",
    "    if row[21] in resp_4:\n",
    "        df_id_abrangencia.loc[index, 'Abrang_resp_21'] = df_abrangencia.iloc[3, 21]\n",
    "    if row[21] in resp_123:\n",
    "        df_id_abrangencia.loc[index, 'Abrang_resp_21'] = df_abrangencia.iloc[0, 21]"
   ]
  },
  {
   "cell_type": "code",
   "execution_count": 34,
   "id": "f7c6c2fa-3a16-4ef3-8e22-0b4a80c4493e",
   "metadata": {},
   "outputs": [],
   "source": [
    "for index, row in df_respostas.iterrows():\n",
    "    if row[22] in resp_7:\n",
    "        df_id_abrangencia.loc[index, 'Abrang_resp_22'] = df_abrangencia.iloc[6, 22]\n",
    "    if row[22] in resp_6:\n",
    "        df_id_abrangencia.loc[index, 'Abrang_resp_22'] = df_abrangencia.iloc[5, 22]\n",
    "    if row[22] in resp_5:\n",
    "        df_id_abrangencia.loc[index, 'Abrang_resp_22'] = df_abrangencia.iloc[4, 22]\n",
    "    if row[22] in resp_4:\n",
    "        df_id_abrangencia.loc[index, 'Abrang_resp_22'] = df_abrangencia.iloc[3, 22]\n",
    "    if row[22] in resp_123:\n",
    "        df_id_abrangencia.loc[index, 'Abrang_resp_22'] = df_abrangencia.iloc[0, 22]"
   ]
  },
  {
   "cell_type": "code",
   "execution_count": 35,
   "id": "71331c6a-1e24-4776-85fa-71efd009bfe3",
   "metadata": {},
   "outputs": [],
   "source": [
    "for index, row in df_respostas.iterrows():\n",
    "    if row[23] in resp_7:\n",
    "        df_id_abrangencia.loc[index, 'Abrang_resp_23'] = df_abrangencia.iloc[6, 23]\n",
    "    if row[23] in resp_6:\n",
    "        df_id_abrangencia.loc[index, 'Abrang_resp_23'] = df_abrangencia.iloc[5, 23]\n",
    "    if row[23] in resp_5:\n",
    "        df_id_abrangencia.loc[index, 'Abrang_resp_23'] = df_abrangencia.iloc[4, 23]\n",
    "    if row[23] in resp_4:\n",
    "        df_id_abrangencia.loc[index, 'Abrang_resp_23'] = df_abrangencia.iloc[3, 23]\n",
    "    if row[23] in resp_123:\n",
    "        df_id_abrangencia.loc[index, 'Abrang_resp_23'] = df_abrangencia.iloc[0, 23]"
   ]
  },
  {
   "cell_type": "code",
   "execution_count": 36,
   "id": "e8267227-d9c0-473d-98bb-dabdd2c5230a",
   "metadata": {},
   "outputs": [],
   "source": [
    "for index, row in df_respostas.iterrows():\n",
    "    if row[24] in resp_7:\n",
    "        df_id_abrangencia.loc[index, 'Abrang_resp_24'] = df_abrangencia.iloc[6, 24]\n",
    "    if row[24] in resp_6:\n",
    "        df_id_abrangencia.loc[index, 'Abrang_resp_24'] = df_abrangencia.iloc[5, 24]\n",
    "    if row[24] in resp_5:\n",
    "        df_id_abrangencia.loc[index, 'Abrang_resp_24'] = df_abrangencia.iloc[4, 24]\n",
    "    if row[24] in resp_4:\n",
    "        df_id_abrangencia.loc[index, 'Abrang_resp_24'] = df_abrangencia.iloc[3, 24]\n",
    "    if row[24] in resp_123:\n",
    "        df_id_abrangencia.loc[index, 'Abrang_resp_24'] = df_abrangencia.iloc[0, 24]"
   ]
  },
  {
   "cell_type": "code",
   "execution_count": 37,
   "id": "fc614c1b-8fb8-4bed-b565-11acede966e6",
   "metadata": {},
   "outputs": [],
   "source": [
    "for index, row in df_respostas.iterrows():\n",
    "    if row[25] in resp_7:\n",
    "        df_id_abrangencia.loc[index, 'Abrang_resp_25'] = df_abrangencia.iloc[6, 25]\n",
    "    if row[25] in resp_6:\n",
    "        df_id_abrangencia.loc[index, 'Abrang_resp_25'] = df_abrangencia.iloc[5, 25]\n",
    "    if row[25] in resp_5:\n",
    "        df_id_abrangencia.loc[index, 'Abrang_resp_25'] = df_abrangencia.iloc[4, 25]\n",
    "    if row[25] in resp_4:\n",
    "        df_id_abrangencia.loc[index, 'Abrang_resp_25'] = df_abrangencia.iloc[3, 25]\n",
    "    if row[25] in resp_123:\n",
    "        df_id_abrangencia.loc[index, 'Abrang_resp_25'] = df_abrangencia.iloc[0, 25]"
   ]
  },
  {
   "cell_type": "code",
   "execution_count": 38,
   "id": "76127eab-8ad8-4c8f-be2b-106c41e7e458",
   "metadata": {},
   "outputs": [],
   "source": [
    "for index, row in df_respostas.iterrows():\n",
    "    if row[26] in resp_7:\n",
    "        df_id_abrangencia.loc[index, 'Abrang_resp_26'] = df_abrangencia.iloc[6, 26]\n",
    "    if row[26] in resp_6:\n",
    "        df_id_abrangencia.loc[index, 'Abrang_resp_26'] = df_abrangencia.iloc[5, 26]\n",
    "    if row[26] in resp_5:\n",
    "        df_id_abrangencia.loc[index, 'Abrang_resp_26'] = df_abrangencia.iloc[4, 26]\n",
    "    if row[26] in resp_4:\n",
    "        df_id_abrangencia.loc[index, 'Abrang_resp_26'] = df_abrangencia.iloc[3, 26]\n",
    "    if row[26] in resp_123:\n",
    "        df_id_abrangencia.loc[index, 'Abrang_resp_26'] = df_abrangencia.iloc[0, 26]"
   ]
  },
  {
   "cell_type": "code",
   "execution_count": 39,
   "id": "e9c9dd7a-820e-42d0-9964-c7b740ae6018",
   "metadata": {},
   "outputs": [],
   "source": [
    "for index, row in df_respostas.iterrows():\n",
    "    if row[27] in resp_7:\n",
    "        df_id_abrangencia.loc[index, 'Abrang_resp_27'] = df_abrangencia.iloc[6, 27]\n",
    "    if row[27] in resp_6:\n",
    "        df_id_abrangencia.loc[index, 'Abrang_resp_27'] = df_abrangencia.iloc[5, 27]\n",
    "    if row[27] in resp_5:\n",
    "        df_id_abrangencia.loc[index, 'Abrang_resp_27'] = df_abrangencia.iloc[4, 27]\n",
    "    if row[27] in resp_4:\n",
    "        df_id_abrangencia.loc[index, 'Abrang_resp_27'] = df_abrangencia.iloc[3, 27]\n",
    "    if row[27] in resp_123:\n",
    "        df_id_abrangencia.loc[index, 'Abrang_resp_27'] = df_abrangencia.iloc[0, 27]"
   ]
  },
  {
   "cell_type": "code",
   "execution_count": 40,
   "id": "ed054ab2-9e8b-49b2-84d3-b0311e3ff249",
   "metadata": {},
   "outputs": [],
   "source": [
    "for index, row in df_respostas.iterrows():\n",
    "    if row[28] in resp_7:\n",
    "        df_id_abrangencia.loc[index, 'Abrang_resp_28'] = df_abrangencia.iloc[6, 28]\n",
    "    if row[28] in resp_6:\n",
    "        df_id_abrangencia.loc[index, 'Abrang_resp_28'] = df_abrangencia.iloc[5, 28]\n",
    "    if row[28] in resp_5:\n",
    "        df_id_abrangencia.loc[index, 'Abrang_resp_28'] = df_abrangencia.iloc[4, 28]\n",
    "    if row[28] in resp_4:\n",
    "        df_id_abrangencia.loc[index, 'Abrang_resp_28'] = df_abrangencia.iloc[3, 28]\n",
    "    if row[28] in resp_123:\n",
    "        df_id_abrangencia.loc[index, 'Abrang_resp_28'] = df_abrangencia.iloc[0, 28]"
   ]
  },
  {
   "cell_type": "code",
   "execution_count": 41,
   "id": "d06fe5c2-b1d3-4c67-afad-122fc5f3de0f",
   "metadata": {},
   "outputs": [],
   "source": [
    "for index, row in df_respostas.iterrows():\n",
    "    if row[29] in resp_7:\n",
    "        df_id_abrangencia.loc[index, 'Abrang_resp_29'] = df_abrangencia.iloc[6, 29]\n",
    "    if row[29] in resp_6:\n",
    "        df_id_abrangencia.loc[index, 'Abrang_resp_29'] = df_abrangencia.iloc[5, 29]\n",
    "    if row[29] in resp_5:\n",
    "        df_id_abrangencia.loc[index, 'Abrang_resp_29'] = df_abrangencia.iloc[4, 29]\n",
    "    if row[29] in resp_4:\n",
    "        df_id_abrangencia.loc[index, 'Abrang_resp_29'] = df_abrangencia.iloc[3, 29]\n",
    "    if row[29] in resp_123:\n",
    "        df_id_abrangencia.loc[index, 'Abrang_resp_29'] = df_abrangencia.iloc[0, 29]"
   ]
  },
  {
   "cell_type": "code",
   "execution_count": 42,
   "id": "3f174b73-a619-443f-b196-fee1f039bb93",
   "metadata": {},
   "outputs": [],
   "source": [
    "for index, row in df_respostas.iterrows():\n",
    "    if row[30] in resp_7:\n",
    "        df_id_abrangencia.loc[index, 'Abrang_resp_30'] = df_abrangencia.iloc[6, 30]\n",
    "    if row[30] in resp_6:\n",
    "        df_id_abrangencia.loc[index, 'Abrang_resp_30'] = df_abrangencia.iloc[5, 30]\n",
    "    if row[30] in resp_5:\n",
    "        df_id_abrangencia.loc[index, 'Abrang_resp_30'] = df_abrangencia.iloc[4, 30]\n",
    "    if row[30] in resp_4:\n",
    "        df_id_abrangencia.loc[index, 'Abrang_resp_30'] = df_abrangencia.iloc[3, 30]\n",
    "    if row[30] in resp_123:\n",
    "        df_id_abrangencia.loc[index, 'Abrang_resp_30'] = df_abrangencia.iloc[0, 30]"
   ]
  },
  {
   "cell_type": "code",
   "execution_count": 43,
   "id": "85ed5336-5a13-4a69-864a-b13f00712708",
   "metadata": {},
   "outputs": [],
   "source": [
    "for index, row in df_respostas.iterrows():\n",
    "    if row[31] in resp_7:\n",
    "        df_id_abrangencia.loc[index, 'Abrang_resp_31'] = df_abrangencia.iloc[6, 31]\n",
    "    if row[31] in resp_6:\n",
    "        df_id_abrangencia.loc[index, 'Abrang_resp_31'] = df_abrangencia.iloc[5, 31]\n",
    "    if row[31] in resp_5:\n",
    "        df_id_abrangencia.loc[index, 'Abrang_resp_31'] = df_abrangencia.iloc[4, 31]\n",
    "    if row[31] in resp_4:\n",
    "        df_id_abrangencia.loc[index, 'Abrang_resp_31'] = df_abrangencia.iloc[3, 31]\n",
    "    if row[31] in resp_123:\n",
    "        df_id_abrangencia.loc[index, 'Abrang_resp_31'] = df_abrangencia.iloc[0, 31]"
   ]
  },
  {
   "cell_type": "code",
   "execution_count": 44,
   "id": "481b627d-b996-46cf-9ddd-6f78b61de7c1",
   "metadata": {},
   "outputs": [],
   "source": [
    "for index, row in df_respostas.iterrows():\n",
    "    if row[32] in resp_7:\n",
    "        df_id_abrangencia.loc[index, 'Abrang_resp_32'] = df_abrangencia.iloc[6, 32]\n",
    "    if row[32] in resp_6:\n",
    "        df_id_abrangencia.loc[index, 'Abrang_resp_32'] = df_abrangencia.iloc[5, 32]\n",
    "    if row[32] in resp_5:\n",
    "        df_id_abrangencia.loc[index, 'Abrang_resp_32'] = df_abrangencia.iloc[4, 32]\n",
    "    if row[32] in resp_4:\n",
    "        df_id_abrangencia.loc[index, 'Abrang_resp_32'] = df_abrangencia.iloc[3, 32]\n",
    "    if row[32] in resp_123:\n",
    "        df_id_abrangencia.loc[index, 'Abrang_resp_32'] = df_abrangencia.iloc[0, 32]"
   ]
  },
  {
   "cell_type": "code",
   "execution_count": 45,
   "id": "c555b07f-ef09-4522-a724-c176fbe4cc67",
   "metadata": {},
   "outputs": [],
   "source": [
    "for index, row in df_respostas.iterrows():\n",
    "    if row[33] in resp_7:\n",
    "        df_id_abrangencia.loc[index, 'Abrang_resp_33'] = df_abrangencia.iloc[6, 33]\n",
    "    if row[33] in resp_6:\n",
    "        df_id_abrangencia.loc[index, 'Abrang_resp_33'] = df_abrangencia.iloc[5, 33]\n",
    "    if row[33] in resp_5:\n",
    "        df_id_abrangencia.loc[index, 'Abrang_resp_33'] = df_abrangencia.iloc[4, 33]\n",
    "    if row[33] in resp_4:\n",
    "        df_id_abrangencia.loc[index, 'Abrang_resp_33'] = df_abrangencia.iloc[3, 33]\n",
    "    if row[33] in resp_123:\n",
    "        df_id_abrangencia.loc[index, 'Abrang_resp_33'] = df_abrangencia.iloc[0, 33]"
   ]
  },
  {
   "cell_type": "code",
   "execution_count": 46,
   "id": "c19dc292-426f-4c5a-a471-4ff7c686d86f",
   "metadata": {},
   "outputs": [],
   "source": [
    "for index, row in df_respostas.iterrows():\n",
    "    if row[34] in resp_7:\n",
    "        df_id_abrangencia.loc[index, 'Abrang_resp_34'] = df_abrangencia.iloc[6, 34]\n",
    "    if row[34] in resp_6:\n",
    "        df_id_abrangencia.loc[index, 'Abrang_resp_34'] = df_abrangencia.iloc[5, 34]\n",
    "    if row[34] in resp_5:\n",
    "        df_id_abrangencia.loc[index, 'Abrang_resp_34'] = df_abrangencia.iloc[4, 34]\n",
    "    if row[34] in resp_4:\n",
    "        df_id_abrangencia.loc[index, 'Abrang_resp_34'] = df_abrangencia.iloc[3, 34]\n",
    "    if row[34] in resp_123:\n",
    "        df_id_abrangencia.loc[index, 'Abrang_resp_34'] = df_abrangencia.iloc[0, 34]"
   ]
  },
  {
   "cell_type": "code",
   "execution_count": 47,
   "id": "9d27fd71-d89c-4e75-ae68-b028f409e198",
   "metadata": {},
   "outputs": [],
   "source": [
    "for index, row in df_respostas.iterrows():\n",
    "    if row[35] in resp_7:\n",
    "        df_id_abrangencia.loc[index, 'Abrang_resp_35'] = df_abrangencia.iloc[6, 35]\n",
    "    if row[35] in resp_6:\n",
    "        df_id_abrangencia.loc[index, 'Abrang_resp_35'] = df_abrangencia.iloc[5, 35]\n",
    "    if row[35] in resp_5:\n",
    "        df_id_abrangencia.loc[index, 'Abrang_resp_35'] = df_abrangencia.iloc[4, 35]\n",
    "    if row[35] in resp_4:\n",
    "        df_id_abrangencia.loc[index, 'Abrang_resp_35'] = df_abrangencia.iloc[3, 35]\n",
    "    if row[35] in resp_123:\n",
    "        df_id_abrangencia.loc[index, 'Abrang_resp_35'] = df_abrangencia.iloc[0, 35]"
   ]
  },
  {
   "cell_type": "code",
   "execution_count": 48,
   "id": "b4a06ff7-ad00-4fe8-b0b4-2a1112d39772",
   "metadata": {},
   "outputs": [],
   "source": [
    "for index, row in df_respostas.iterrows():\n",
    "    if row[36] in resp_7:\n",
    "        df_id_abrangencia.loc[index, 'Abrang_resp_36'] = df_abrangencia.iloc[6, 36]\n",
    "    if row[36] in resp_6:\n",
    "        df_id_abrangencia.loc[index, 'Abrang_resp_36'] = df_abrangencia.iloc[5, 36]\n",
    "    if row[36] in resp_5:\n",
    "        df_id_abrangencia.loc[index, 'Abrang_resp_36'] = df_abrangencia.iloc[4, 36]\n",
    "    if row[36] in resp_4:\n",
    "        df_id_abrangencia.loc[index, 'Abrang_resp_36'] = df_abrangencia.iloc[3, 36]\n",
    "    if row[36] in resp_123:\n",
    "        df_id_abrangencia.loc[index, 'Abrang_resp_36'] = df_abrangencia.iloc[0, 36]"
   ]
  },
  {
   "cell_type": "code",
   "execution_count": 49,
   "id": "c8b5650d-9019-4c23-8c93-2218c7dcb777",
   "metadata": {},
   "outputs": [],
   "source": [
    "for index, row in df_respostas.iterrows():\n",
    "    if row[37] in resp_7:\n",
    "        df_id_abrangencia.loc[index, 'Abrang_resp_37'] = df_abrangencia.iloc[6, 37]\n",
    "    if row[37] in resp_6:\n",
    "        df_id_abrangencia.loc[index, 'Abrang_resp_37'] = df_abrangencia.iloc[5, 37]\n",
    "    if row[37] in resp_5:\n",
    "        df_id_abrangencia.loc[index, 'Abrang_resp_37'] = df_abrangencia.iloc[4, 37]\n",
    "    if row[37] in resp_4:\n",
    "        df_id_abrangencia.loc[index, 'Abrang_resp_37'] = df_abrangencia.iloc[3, 37]\n",
    "    if row[37] in resp_123:\n",
    "        df_id_abrangencia.loc[index, 'Abrang_resp_37'] = df_abrangencia.iloc[0, 37]"
   ]
  },
  {
   "cell_type": "code",
   "execution_count": 50,
   "id": "5e6b0bdc-2226-4947-a597-89a88ef163db",
   "metadata": {},
   "outputs": [],
   "source": [
    "for index, row in df_respostas.iterrows():\n",
    "    if row[38] in resp_7:\n",
    "        df_id_abrangencia.loc[index, 'Abrang_resp_38'] = df_abrangencia.iloc[6, 38]\n",
    "    if row[38] in resp_6:\n",
    "        df_id_abrangencia.loc[index, 'Abrang_resp_38'] = df_abrangencia.iloc[5, 38]\n",
    "    if row[38] in resp_5:\n",
    "        df_id_abrangencia.loc[index, 'Abrang_resp_38'] = df_abrangencia.iloc[4, 38]\n",
    "    if row[38] in resp_4:\n",
    "        df_id_abrangencia.loc[index, 'Abrang_resp_38'] = df_abrangencia.iloc[3, 38]\n",
    "    if row[38] in resp_123:\n",
    "        df_id_abrangencia.loc[index, 'Abrang_resp_38'] = df_abrangencia.iloc[0, 38]"
   ]
  },
  {
   "cell_type": "code",
   "execution_count": 51,
   "id": "f19ee0b1-3316-4dce-9b0a-2dc9b76345a0",
   "metadata": {},
   "outputs": [],
   "source": [
    "for index, row in df_respostas.iterrows():\n",
    "    if row[39] in resp_7:\n",
    "        df_id_abrangencia.loc[index, 'Abrang_resp_39'] = df_abrangencia.iloc[6, 39]\n",
    "    if row[39] in resp_6:\n",
    "        df_id_abrangencia.loc[index, 'Abrang_resp_39'] = df_abrangencia.iloc[5, 39]\n",
    "    if row[39] in resp_5:\n",
    "        df_id_abrangencia.loc[index, 'Abrang_resp_39'] = df_abrangencia.iloc[4, 39]\n",
    "    if row[39] in resp_4:\n",
    "        df_id_abrangencia.loc[index, 'Abrang_resp_39'] = df_abrangencia.iloc[3, 39]\n",
    "    if row[39] in resp_123:\n",
    "        df_id_abrangencia.loc[index, 'Abrang_resp_39'] = df_abrangencia.iloc[0, 39]"
   ]
  },
  {
   "cell_type": "code",
   "execution_count": 52,
   "id": "69f4202c-581b-42d1-941e-c5f57bf14821",
   "metadata": {},
   "outputs": [],
   "source": [
    "for index, row in df_respostas.iterrows():\n",
    "    if row[40] in resp_7:\n",
    "        df_id_abrangencia.loc[index, 'Abrang_resp_40'] = df_abrangencia.iloc[6, 40]\n",
    "    if row[40] in resp_6:\n",
    "        df_id_abrangencia.loc[index, 'Abrang_resp_40'] = df_abrangencia.iloc[5, 40]\n",
    "    if row[40] in resp_5:\n",
    "        df_id_abrangencia.loc[index, 'Abrang_resp_40'] = df_abrangencia.iloc[4, 40]\n",
    "    if row[40] in resp_4:\n",
    "        df_id_abrangencia.loc[index, 'Abrang_resp_40'] = df_abrangencia.iloc[3, 40]\n",
    "    if row[40] in resp_123:\n",
    "        df_id_abrangencia.loc[index, 'Abrang_resp_40'] = df_abrangencia.iloc[0, 40]"
   ]
  },
  {
   "cell_type": "code",
   "execution_count": 53,
   "id": "66482ef0-7bf9-4831-a0a9-3f0187ad389f",
   "metadata": {},
   "outputs": [],
   "source": [
    "for index, row in df_respostas.iterrows():\n",
    "    if row[41] in resp_7:\n",
    "        df_id_abrangencia.loc[index, 'Abrang_resp_41'] = df_abrangencia.iloc[6, 41]\n",
    "    if row[41] in resp_6:\n",
    "        df_id_abrangencia.loc[index, 'Abrang_resp_41'] = df_abrangencia.iloc[5, 41]\n",
    "    if row[41] in resp_5:\n",
    "        df_id_abrangencia.loc[index, 'Abrang_resp_41'] = df_abrangencia.iloc[4, 41]\n",
    "    if row[41] in resp_4:\n",
    "        df_id_abrangencia.loc[index, 'Abrang_resp_41'] = df_abrangencia.iloc[3, 41]\n",
    "    if row[41] in resp_123:\n",
    "        df_id_abrangencia.loc[index, 'Abrang_resp_41'] = df_abrangencia.iloc[0, 41]"
   ]
  },
  {
   "cell_type": "code",
   "execution_count": 54,
   "id": "d4a18cc4-87b6-4e64-b2fa-6b57262d0fa6",
   "metadata": {},
   "outputs": [],
   "source": [
    "for index, row in df_respostas.iterrows():\n",
    "    if row[42] in resp_7:\n",
    "        df_id_abrangencia.loc[index, 'Abrang_resp_42'] = df_abrangencia.iloc[6, 42]\n",
    "    if row[42] in resp_6:\n",
    "        df_id_abrangencia.loc[index, 'Abrang_resp_42'] = df_abrangencia.iloc[5, 42]\n",
    "    if row[42] in resp_5:\n",
    "        df_id_abrangencia.loc[index, 'Abrang_resp_42'] = df_abrangencia.iloc[4, 42]\n",
    "    if row[42] in resp_4:\n",
    "        df_id_abrangencia.loc[index, 'Abrang_resp_42'] = df_abrangencia.iloc[3, 42]\n",
    "    if row[42] in resp_123:\n",
    "        df_id_abrangencia.loc[index, 'Abrang_resp_42'] = df_abrangencia.iloc[0, 42]"
   ]
  },
  {
   "cell_type": "code",
   "execution_count": 55,
   "id": "f1668051-73e5-4e50-b7fb-2b68856f1c1b",
   "metadata": {},
   "outputs": [],
   "source": [
    "for index, row in df_respostas.iterrows():\n",
    "    if row[43] in resp_7:\n",
    "        df_id_abrangencia.loc[index, 'Abrang_resp_43'] = df_abrangencia.iloc[6, 43]\n",
    "    if row[43] in resp_6:\n",
    "        df_id_abrangencia.loc[index, 'Abrang_resp_43'] = df_abrangencia.iloc[5, 43]\n",
    "    if row[43] in resp_5:\n",
    "        df_id_abrangencia.loc[index, 'Abrang_resp_43'] = df_abrangencia.iloc[4, 43]\n",
    "    if row[43] in resp_4:\n",
    "        df_id_abrangencia.loc[index, 'Abrang_resp_43'] = df_abrangencia.iloc[3, 43]\n",
    "    if row[43] in resp_123:\n",
    "        df_id_abrangencia.loc[index, 'Abrang_resp_43'] = df_abrangencia.iloc[0, 43]"
   ]
  },
  {
   "cell_type": "code",
   "execution_count": 56,
   "id": "d4ae6d20-6176-431b-ad20-e7314ddfc552",
   "metadata": {},
   "outputs": [],
   "source": [
    "for index, row in df_respostas.iterrows():\n",
    "    if row[44] in resp_7:\n",
    "        df_id_abrangencia.loc[index, 'Abrang_resp_44'] = df_abrangencia.iloc[6, 44]\n",
    "    if row[44] in resp_6:\n",
    "        df_id_abrangencia.loc[index, 'Abrang_resp_44'] = df_abrangencia.iloc[5, 44]\n",
    "    if row[44] in resp_5:\n",
    "        df_id_abrangencia.loc[index, 'Abrang_resp_44'] = df_abrangencia.iloc[4, 44]\n",
    "    if row[44] in resp_4:\n",
    "        df_id_abrangencia.loc[index, 'Abrang_resp_44'] = df_abrangencia.iloc[3, 44]\n",
    "    if row[44] in resp_123:\n",
    "        df_id_abrangencia.loc[index, 'Abrang_resp_44'] = df_abrangencia.iloc[0, 44]"
   ]
  },
  {
   "cell_type": "code",
   "execution_count": 57,
   "id": "bff24321-adcf-420b-b49c-2f6bbdf09bd9",
   "metadata": {},
   "outputs": [],
   "source": [
    "for index, row in df_respostas.iterrows():\n",
    "    if row[45] in resp_7:\n",
    "        df_id_abrangencia.loc[index, 'Abrang_resp_45'] = df_abrangencia.iloc[6, 45]\n",
    "    if row[45] in resp_6:\n",
    "        df_id_abrangencia.loc[index, 'Abrang_resp_45'] = df_abrangencia.iloc[5, 45]\n",
    "    if row[45] in resp_5:\n",
    "        df_id_abrangencia.loc[index, 'Abrang_resp_45'] = df_abrangencia.iloc[4, 45]\n",
    "    if row[45] in resp_4:\n",
    "        df_id_abrangencia.loc[index, 'Abrang_resp_45'] = df_abrangencia.iloc[3, 45]\n",
    "    if row[45] in resp_123:\n",
    "        df_id_abrangencia.loc[index, 'Abrang_resp_45'] = df_abrangencia.iloc[0, 45]"
   ]
  },
  {
   "cell_type": "code",
   "execution_count": 58,
   "id": "d5d7a05f-b200-442b-b859-e18834999f9d",
   "metadata": {},
   "outputs": [],
   "source": [
    "for index, row in df_respostas.iterrows():\n",
    "    if row[46] in resp_7:\n",
    "        df_id_abrangencia.loc[index, 'Abrang_resp_46'] = df_abrangencia.iloc[6, 46]\n",
    "    if row[46] in resp_6:\n",
    "        df_id_abrangencia.loc[index, 'Abrang_resp_46'] = df_abrangencia.iloc[5, 46]\n",
    "    if row[46] in resp_5:\n",
    "        df_id_abrangencia.loc[index, 'Abrang_resp_46'] = df_abrangencia.iloc[4, 46]\n",
    "    if row[46] in resp_4:\n",
    "        df_id_abrangencia.loc[index, 'Abrang_resp_46'] = df_abrangencia.iloc[3, 46]\n",
    "    if row[46] in resp_123:\n",
    "        df_id_abrangencia.loc[index, 'Abrang_resp_46'] = df_abrangencia.iloc[0, 46]"
   ]
  },
  {
   "cell_type": "code",
   "execution_count": 59,
   "id": "678f4fc9-94f4-4918-b51e-dfa53eba4248",
   "metadata": {},
   "outputs": [],
   "source": [
    "for index, row in df_respostas.iterrows():\n",
    "    if row[47] in resp_7:\n",
    "        df_id_abrangencia.loc[index, 'Abrang_resp_47'] = df_abrangencia.iloc[6, 47]\n",
    "    if row[47] in resp_6:\n",
    "        df_id_abrangencia.loc[index, 'Abrang_resp_47'] = df_abrangencia.iloc[5, 47]\n",
    "    if row[47] in resp_5:\n",
    "        df_id_abrangencia.loc[index, 'Abrang_resp_47'] = df_abrangencia.iloc[4, 47]\n",
    "    if row[47] in resp_4:\n",
    "        df_id_abrangencia.loc[index, 'Abrang_resp_47'] = df_abrangencia.iloc[3, 47]\n",
    "    if row[47] in resp_123:\n",
    "        df_id_abrangencia.loc[index, 'Abrang_resp_47'] = df_abrangencia.iloc[0, 47]"
   ]
  },
  {
   "cell_type": "code",
   "execution_count": 60,
   "id": "7b827e93-1636-4a50-8441-11a1da58526b",
   "metadata": {},
   "outputs": [],
   "source": [
    "for index, row in df_respostas.iterrows():\n",
    "    if row[48] in resp_7:\n",
    "        df_id_abrangencia.loc[index, 'Abrang_resp_48'] = df_abrangencia.iloc[6, 48]\n",
    "    if row[48] in resp_6:\n",
    "        df_id_abrangencia.loc[index, 'Abrang_resp_48'] = df_abrangencia.iloc[5, 48]\n",
    "    if row[48] in resp_5:\n",
    "        df_id_abrangencia.loc[index, 'Abrang_resp_48'] = df_abrangencia.iloc[4, 48]\n",
    "    if row[48] in resp_4:\n",
    "        df_id_abrangencia.loc[index, 'Abrang_resp_48'] = df_abrangencia.iloc[3, 48]\n",
    "    if row[48] in resp_123:\n",
    "        df_id_abrangencia.loc[index, 'Abrang_resp_48'] = df_abrangencia.iloc[0, 48]"
   ]
  },
  {
   "cell_type": "code",
   "execution_count": 61,
   "id": "3d484222-289b-494d-af7c-57298de90efb",
   "metadata": {},
   "outputs": [],
   "source": [
    "for index, row in df_respostas.iterrows():\n",
    "    if row[49] in resp_7:\n",
    "        df_id_abrangencia.loc[index, 'Abrang_resp_49'] = df_abrangencia.iloc[6, 49]\n",
    "    if row[49] in resp_6:\n",
    "        df_id_abrangencia.loc[index, 'Abrang_resp_49'] = df_abrangencia.iloc[5, 49]\n",
    "    if row[49] in resp_5:\n",
    "        df_id_abrangencia.loc[index, 'Abrang_resp_49'] = df_abrangencia.iloc[4, 49]\n",
    "    if row[49] in resp_4:\n",
    "        df_id_abrangencia.loc[index, 'Abrang_resp_49'] = df_abrangencia.iloc[3, 49]\n",
    "    if row[49] in resp_123:\n",
    "        df_id_abrangencia.loc[index, 'Abrang_resp_49'] = df_abrangencia.iloc[0, 49]"
   ]
  },
  {
   "cell_type": "code",
   "execution_count": 62,
   "id": "2ef62201-b224-44a0-bf11-524112918eaa",
   "metadata": {},
   "outputs": [],
   "source": [
    "for index, row in df_respostas.iterrows():\n",
    "    if row[50] in resp_7:\n",
    "        df_id_abrangencia.loc[index, 'Abrang_resp_50'] = df_abrangencia.iloc[6, 50]\n",
    "    if row[50] in resp_6:\n",
    "        df_id_abrangencia.loc[index, 'Abrang_resp_50'] = df_abrangencia.iloc[5, 50]\n",
    "    if row[50] in resp_5:\n",
    "        df_id_abrangencia.loc[index, 'Abrang_resp_50'] = df_abrangencia.iloc[4, 50]\n",
    "    if row[50] in resp_4:\n",
    "        df_id_abrangencia.loc[index, 'Abrang_resp_50'] = df_abrangencia.iloc[3, 50]\n",
    "    if row[50] in resp_123:\n",
    "        df_id_abrangencia.loc[index, 'Abrang_resp_50'] = df_abrangencia.iloc[0, 50]"
   ]
  },
  {
   "cell_type": "code",
   "execution_count": 63,
   "id": "08f27938-6de9-49c7-a68e-c16e6632a95d",
   "metadata": {},
   "outputs": [],
   "source": [
    "for index, row in df_respostas.iterrows():\n",
    "    if row[51] in resp_7:\n",
    "        df_id_abrangencia.loc[index, 'Abrang_resp_51'] = df_abrangencia.iloc[6, 51]\n",
    "    if row[51] in resp_6:\n",
    "        df_id_abrangencia.loc[index, 'Abrang_resp_51'] = df_abrangencia.iloc[5, 51]\n",
    "    if row[51] in resp_5:\n",
    "        df_id_abrangencia.loc[index, 'Abrang_resp_51'] = df_abrangencia.iloc[4, 51]\n",
    "    if row[51] in resp_4:\n",
    "        df_id_abrangencia.loc[index, 'Abrang_resp_51'] = df_abrangencia.iloc[3, 51]\n",
    "    if row[51] in resp_123:\n",
    "        df_id_abrangencia.loc[index, 'Abrang_resp_51'] = df_abrangencia.iloc[0, 51]"
   ]
  },
  {
   "cell_type": "code",
   "execution_count": 64,
   "id": "f0096965-5e58-44fe-9925-04878efeaa40",
   "metadata": {},
   "outputs": [],
   "source": [
    "for index, row in df_respostas.iterrows():\n",
    "    if row[51] in resp_7:\n",
    "        df_id_abrangencia.loc[index, 'Abrang_resp_52'] = df_abrangencia.iloc[6, 52]\n",
    "    if row[52] in resp_6:\n",
    "        df_id_abrangencia.loc[index, 'Abrang_resp_52'] = df_abrangencia.iloc[5, 52]\n",
    "    if row[52] in resp_5:\n",
    "        df_id_abrangencia.loc[index, 'Abrang_resp_52'] = df_abrangencia.iloc[4, 52]\n",
    "    if row[52] in resp_4:\n",
    "        df_id_abrangencia.loc[index, 'Abrang_resp_52'] = df_abrangencia.iloc[3, 52]\n",
    "    if row[52] in resp_123:\n",
    "        df_id_abrangencia.loc[index, 'Abrang_resp_52'] = df_abrangencia.iloc[0, 52]"
   ]
  },
  {
   "cell_type": "code",
   "execution_count": 65,
   "id": "6a4d88b5-b488-4c4d-96ae-3be5bf16126b",
   "metadata": {},
   "outputs": [],
   "source": [
    "for index, row in df_respostas.iterrows():\n",
    "    if row[53] in resp_7:\n",
    "        df_id_abrangencia.loc[index, 'Abrang_resp_53'] = df_abrangencia.iloc[6, 53]\n",
    "    if row[53] in resp_6:\n",
    "        df_id_abrangencia.loc[index, 'Abrang_resp_53'] = df_abrangencia.iloc[5, 53]\n",
    "    if row[53] in resp_5:\n",
    "        df_id_abrangencia.loc[index, 'Abrang_resp_53'] = df_abrangencia.iloc[4, 53]\n",
    "    if row[53] in resp_4:\n",
    "        df_id_abrangencia.loc[index, 'Abrang_resp_53'] = df_abrangencia.iloc[3, 53]\n",
    "    if row[53] in resp_123:\n",
    "        df_id_abrangencia.loc[index, 'Abrang_resp_53'] = df_abrangencia.iloc[0, 53]"
   ]
  },
  {
   "cell_type": "code",
   "execution_count": 66,
   "id": "91ffb1a8-6fb0-45ed-b702-cda93a076f7d",
   "metadata": {},
   "outputs": [],
   "source": [
    "for index, row in df_respostas.iterrows():\n",
    "    if row[54] in resp_7:\n",
    "        df_id_abrangencia.loc[index, 'Abrang_resp_54'] = df_abrangencia.iloc[6, 54]\n",
    "    if row[54] in resp_6:\n",
    "        df_id_abrangencia.loc[index, 'Abrang_resp_54'] = df_abrangencia.iloc[5, 54]\n",
    "    if row[54] in resp_5:\n",
    "        df_id_abrangencia.loc[index, 'Abrang_resp_54'] = df_abrangencia.iloc[4, 54]\n",
    "    if row[54] in resp_4:\n",
    "        df_id_abrangencia.loc[index, 'Abrang_resp_54'] = df_abrangencia.iloc[3, 54]\n",
    "    if row[54] in resp_123:\n",
    "        df_id_abrangencia.loc[index, 'Abrang_resp_54'] = df_abrangencia.iloc[0, 54]"
   ]
  },
  {
   "cell_type": "code",
   "execution_count": 67,
   "id": "ff6b3394-37ce-43c5-bc1b-45f6b2a4055d",
   "metadata": {},
   "outputs": [],
   "source": [
    "for index, row in df_respostas.iterrows():\n",
    "    if row[55] in resp_7:\n",
    "        df_id_abrangencia.loc[index, 'Abrang_resp_55'] = df_abrangencia.iloc[6, 55]\n",
    "    if row[55] in resp_6:\n",
    "        df_id_abrangencia.loc[index, 'Abrang_resp_55'] = df_abrangencia.iloc[5, 55]\n",
    "    if row[55] in resp_5:\n",
    "        df_id_abrangencia.loc[index, 'Abrang_resp_55'] = df_abrangencia.iloc[4, 55]\n",
    "    if row[55] in resp_4:\n",
    "        df_id_abrangencia.loc[index, 'Abrang_resp_55'] = df_abrangencia.iloc[3, 55]\n",
    "    if row[55] in resp_123:\n",
    "        df_id_abrangencia.loc[index, 'Abrang_resp_50'] = df_abrangencia.iloc[0, 55]"
   ]
  },
  {
   "cell_type": "code",
   "execution_count": 68,
   "id": "92634b40-a4ae-4bca-886f-15067083e26f",
   "metadata": {},
   "outputs": [],
   "source": [
    "for index, row in df_respostas.iterrows():\n",
    "    if row[56] in resp_7:\n",
    "        df_id_abrangencia.loc[index, 'Abrang_resp_56'] = df_abrangencia.iloc[6, 56]\n",
    "    if row[56] in resp_6:\n",
    "        df_id_abrangencia.loc[index, 'Abrang_resp_56'] = df_abrangencia.iloc[5, 56]\n",
    "    if row[56] in resp_5:\n",
    "        df_id_abrangencia.loc[index, 'Abrang_resp_56'] = df_abrangencia.iloc[4, 56]\n",
    "    if row[56] in resp_4:\n",
    "        df_id_abrangencia.loc[index, 'Abrang_resp_56'] = df_abrangencia.iloc[3, 56]\n",
    "    if row[56] in resp_123:\n",
    "        df_id_abrangencia.loc[index, 'Abrang_resp_56'] = df_abrangencia.iloc[0, 56]"
   ]
  },
  {
   "cell_type": "code",
   "execution_count": 69,
   "id": "6794c256-a1e5-4557-b563-667cd3341697",
   "metadata": {},
   "outputs": [],
   "source": [
    "for index, row in df_respostas.iterrows():\n",
    "    if row[57] in resp_7:\n",
    "        df_id_abrangencia.loc[index, 'Abrang_resp_57'] = df_abrangencia.iloc[6, 57]\n",
    "    if row[57] in resp_6:\n",
    "        df_id_abrangencia.loc[index, 'Abrang_resp_57'] = df_abrangencia.iloc[5, 57]\n",
    "    if row[57] in resp_5:\n",
    "        df_id_abrangencia.loc[index, 'Abrang_resp_57'] = df_abrangencia.iloc[4, 57]\n",
    "    if row[57] in resp_4:\n",
    "        df_id_abrangencia.loc[index, 'Abrang_resp_57'] = df_abrangencia.iloc[3, 57]\n",
    "    if row[57] in resp_123:\n",
    "        df_id_abrangencia.loc[index, 'Abrang_resp_57'] = df_abrangencia.iloc[0, 57]"
   ]
  },
  {
   "cell_type": "code",
   "execution_count": 70,
   "id": "d9b5ea85-471d-4067-91c9-d5034e63ddda",
   "metadata": {},
   "outputs": [],
   "source": [
    "for index, row in df_respostas.iterrows():\n",
    "    if row[58] in resp_7:\n",
    "        df_id_abrangencia.loc[index, 'Abrang_resp_58'] = df_abrangencia.iloc[6, 58]\n",
    "    if row[58] in resp_6:\n",
    "        df_id_abrangencia.loc[index, 'Abrang_resp_58'] = df_abrangencia.iloc[5, 58]\n",
    "    if row[58] in resp_5:\n",
    "        df_id_abrangencia.loc[index, 'Abrang_resp_58'] = df_abrangencia.iloc[4, 58]\n",
    "    if row[58] in resp_4:\n",
    "        df_id_abrangencia.loc[index, 'Abrang_resp_58'] = df_abrangencia.iloc[3, 58]\n",
    "    if row[58] in resp_123:\n",
    "        df_id_abrangencia.loc[index, 'Abrang_resp_58'] = df_abrangencia.iloc[0, 58]"
   ]
  },
  {
   "cell_type": "code",
   "execution_count": 71,
   "id": "7cb54f6f-2347-4513-8ee6-797a7acc4b35",
   "metadata": {},
   "outputs": [],
   "source": [
    "for index, row in df_respostas.iterrows():\n",
    "    if row[59] in resp_7:\n",
    "        df_id_abrangencia.loc[index, 'Abrang_resp_59'] = df_abrangencia.iloc[6, 59]\n",
    "    if row[59] in resp_6:\n",
    "        df_id_abrangencia.loc[index, 'Abrang_resp_59'] = df_abrangencia.iloc[5, 59]\n",
    "    if row[59] in resp_5:\n",
    "        df_id_abrangencia.loc[index, 'Abrang_resp_59'] = df_abrangencia.iloc[4, 59]\n",
    "    if row[59] in resp_4:\n",
    "        df_id_abrangencia.loc[index, 'Abrang_resp_59'] = df_abrangencia.iloc[3, 59]\n",
    "    if row[59] in resp_123:\n",
    "        df_id_abrangencia.loc[index, 'Abrang_resp_59'] = df_abrangencia.iloc[0, 59]"
   ]
  },
  {
   "cell_type": "code",
   "execution_count": 72,
   "id": "8583fcbc-092b-48d3-8a07-a2314f35a744",
   "metadata": {},
   "outputs": [],
   "source": [
    "for index, row in df_respostas.iterrows():\n",
    "    if row[60] in resp_7:\n",
    "        df_id_abrangencia.loc[index, 'Abrang_resp_60'] = df_abrangencia.iloc[6, 60]\n",
    "    if row[60] in resp_6:\n",
    "        df_id_abrangencia.loc[index, 'Abrang_resp_60'] = df_abrangencia.iloc[5, 60]\n",
    "    if row[60] in resp_5:\n",
    "        df_id_abrangencia.loc[index, 'Abrang_resp_60'] = df_abrangencia.iloc[4, 60]\n",
    "    if row[60] in resp_4:\n",
    "        df_id_abrangencia.loc[index, 'Abrang_resp_60'] = df_abrangencia.iloc[3, 60]\n",
    "    if row[60] in resp_123:\n",
    "        df_id_abrangencia.loc[index, 'Abrang_resp_60'] = df_abrangencia.iloc[0, 60]"
   ]
  },
  {
   "cell_type": "code",
   "execution_count": 73,
   "id": "205c5d55-581e-438b-9549-4dea903859af",
   "metadata": {},
   "outputs": [],
   "source": [
    "for index, row in df_respostas.iterrows():\n",
    "    if row[61] in resp_7:\n",
    "        df_id_abrangencia.loc[index, 'Abrang_resp_61'] = df_abrangencia.iloc[6, 61]\n",
    "    if row[61] in resp_6:\n",
    "        df_id_abrangencia.loc[index, 'Abrang_resp_61'] = df_abrangencia.iloc[5, 61]\n",
    "    if row[61] in resp_5:\n",
    "        df_id_abrangencia.loc[index, 'Abrang_resp_61'] = df_abrangencia.iloc[4, 61]\n",
    "    if row[61] in resp_4:\n",
    "        df_id_abrangencia.loc[index, 'Abrang_resp_61'] = df_abrangencia.iloc[3, 61]\n",
    "    if row[61] in resp_123:\n",
    "        df_id_abrangencia.loc[index, 'Abrang_resp_61'] = df_abrangencia.iloc[0, 61]"
   ]
  },
  {
   "cell_type": "code",
   "execution_count": 74,
   "id": "394cf280-6c8a-46f2-bc95-fa8873c2057d",
   "metadata": {},
   "outputs": [],
   "source": [
    "for index, row in df_respostas.iterrows():\n",
    "    if row[62] in resp_7:\n",
    "        df_id_abrangencia.loc[index, 'Abrang_resp_62'] = df_abrangencia.iloc[6, 62]\n",
    "    if row[62] in resp_6:\n",
    "        df_id_abrangencia.loc[index, 'Abrang_resp_62'] = df_abrangencia.iloc[5, 62]\n",
    "    if row[62] in resp_5:\n",
    "        df_id_abrangencia.loc[index, 'Abrang_resp_62'] = df_abrangencia.iloc[4, 62]\n",
    "    if row[62] in resp_4:\n",
    "        df_id_abrangencia.loc[index, 'Abrang_resp_62'] = df_abrangencia.iloc[3, 62]\n",
    "    if row[62] in resp_123:\n",
    "        df_id_abrangencia.loc[index, 'Abrang_resp_62'] = df_abrangencia.iloc[0, 62]"
   ]
  },
  {
   "cell_type": "code",
   "execution_count": 75,
   "id": "6f1abaa8-f887-4410-ba64-9b9037ecbd0f",
   "metadata": {},
   "outputs": [],
   "source": [
    "for index, row in df_respostas.iterrows():\n",
    "    if row[63] in resp_7:\n",
    "        df_id_abrangencia.loc[index, 'Abrang_resp_63'] = df_abrangencia.iloc[6, 63]\n",
    "    if row[63] in resp_6:\n",
    "        df_id_abrangencia.loc[index, 'Abrang_resp_63'] = df_abrangencia.iloc[5, 63]\n",
    "    if row[63] in resp_5:\n",
    "        df_id_abrangencia.loc[index, 'Abrang_resp_63'] = df_abrangencia.iloc[4, 63]\n",
    "    if row[63] in resp_4:\n",
    "        df_id_abrangencia.loc[index, 'Abrang_resp_63'] = df_abrangencia.iloc[3, 63]\n",
    "    if row[63] in resp_123:\n",
    "        df_id_abrangencia.loc[index, 'Abrang_resp_63'] = df_abrangencia.iloc[0, 63]"
   ]
  },
  {
   "cell_type": "code",
   "execution_count": 76,
   "id": "d04b7eca-fde6-4791-bf73-6a51ace72747",
   "metadata": {},
   "outputs": [],
   "source": [
    "for index, row in df_respostas.iterrows():\n",
    "    if row[64] in resp_7:\n",
    "        df_id_abrangencia.loc[index, 'Abrang_resp_64'] = df_abrangencia.iloc[6, 64]\n",
    "    if row[64] in resp_6:\n",
    "        df_id_abrangencia.loc[index, 'Abrang_resp_64'] = df_abrangencia.iloc[5, 64]\n",
    "    if row[64] in resp_5:\n",
    "        df_id_abrangencia.loc[index, 'Abrang_resp_64'] = df_abrangencia.iloc[4, 64]\n",
    "    if row[64] in resp_4:\n",
    "        df_id_abrangencia.loc[index, 'Abrang_resp_64'] = df_abrangencia.iloc[3, 64]\n",
    "    if row[64] in resp_123:\n",
    "        df_id_abrangencia.loc[index, 'Abrang_resp_64'] = df_abrangencia.iloc[0, 64]"
   ]
  },
  {
   "cell_type": "code",
   "execution_count": 77,
   "id": "d36014d8-c651-4167-a151-a224011b4001",
   "metadata": {},
   "outputs": [],
   "source": [
    "for index, row in df_respostas.iterrows():\n",
    "    if row[65] in resp_7:\n",
    "        df_id_abrangencia.loc[index, 'Abrang_resp_65'] = df_abrangencia.iloc[6, 65]\n",
    "    if row[65] in resp_6:\n",
    "        df_id_abrangencia.loc[index, 'Abrang_resp_65'] = df_abrangencia.iloc[5, 65]\n",
    "    if row[65] in resp_5:\n",
    "        df_id_abrangencia.loc[index, 'Abrang_resp_65'] = df_abrangencia.iloc[4, 65]\n",
    "    if row[65] in resp_4:\n",
    "        df_id_abrangencia.loc[index, 'Abrang_resp_65'] = df_abrangencia.iloc[3, 65]\n",
    "    if row[65] in resp_123:\n",
    "        df_id_abrangencia.loc[index, 'Abrang_resp_65'] = df_abrangencia.iloc[0, 65]"
   ]
  },
  {
   "cell_type": "code",
   "execution_count": 78,
   "id": "5ef904a1-5f72-4a77-abef-b18ac3f2ceda",
   "metadata": {},
   "outputs": [],
   "source": [
    "for index, row in df_respostas.iterrows():\n",
    "    if row[66] in resp_7:\n",
    "        df_id_abrangencia.loc[index, 'Abrang_resp_66'] = df_abrangencia.iloc[6, 66]\n",
    "    if row[66] in resp_6:\n",
    "        df_id_abrangencia.loc[index, 'Abrang_resp_66'] = df_abrangencia.iloc[5, 66]\n",
    "    if row[66] in resp_5:\n",
    "        df_id_abrangencia.loc[index, 'Abrang_resp_66'] = df_abrangencia.iloc[4, 66]\n",
    "    if row[66] in resp_4:\n",
    "        df_id_abrangencia.loc[index, 'Abrang_resp_66'] = df_abrangencia.iloc[3, 66]\n",
    "    if row[66] in resp_123:\n",
    "        df_id_abrangencia.loc[index, 'Abrang_resp_66'] = df_abrangencia.iloc[0, 66]"
   ]
  },
  {
   "cell_type": "code",
   "execution_count": 79,
   "id": "52a9466a-75fb-4f8f-bd20-87f6dca4c55d",
   "metadata": {},
   "outputs": [],
   "source": [
    "for index, row in df_respostas.iterrows():\n",
    "    if row[67] in resp_7:\n",
    "        df_id_abrangencia.loc[index, 'Abrang_resp_67'] = df_abrangencia.iloc[6, 67]\n",
    "    if row[67] in resp_6:\n",
    "        df_id_abrangencia.loc[index, 'Abrang_resp_67'] = df_abrangencia.iloc[5, 67]\n",
    "    if row[67] in resp_5:\n",
    "        df_id_abrangencia.loc[index, 'Abrang_resp_67'] = df_abrangencia.iloc[4, 67]\n",
    "    if row[67] in resp_4:\n",
    "        df_id_abrangencia.loc[index, 'Abrang_resp_67'] = df_abrangencia.iloc[3, 67]\n",
    "    if row[67] in resp_123:\n",
    "        df_id_abrangencia.loc[index, 'Abrang_resp_67'] = df_abrangencia.iloc[0, 67]"
   ]
  },
  {
   "cell_type": "code",
   "execution_count": 80,
   "id": "bd1a44d9-2066-4fcc-9069-7106ad4a5afd",
   "metadata": {},
   "outputs": [],
   "source": [
    "for index, row in df_respostas.iterrows():\n",
    "    if row[68] in resp_7:\n",
    "        df_id_abrangencia.loc[index, 'Abrang_resp_68'] = df_abrangencia.iloc[6, 68]\n",
    "    if row[68] in resp_6:\n",
    "        df_id_abrangencia.loc[index, 'Abrang_resp_68'] = df_abrangencia.iloc[5, 68]\n",
    "    if row[68] in resp_5:\n",
    "        df_id_abrangencia.loc[index, 'Abrang_resp_68'] = df_abrangencia.iloc[4, 68]\n",
    "    if row[68] in resp_4:\n",
    "        df_id_abrangencia.loc[index, 'Abrang_resp_68'] = df_abrangencia.iloc[3, 68]\n",
    "    if row[68] in resp_123:\n",
    "        df_id_abrangencia.loc[index, 'Abrang_resp_68'] = df_abrangencia.iloc[0, 68]"
   ]
  },
  {
   "cell_type": "code",
   "execution_count": 81,
   "id": "115d21c3-5a87-4702-906e-b2849446423c",
   "metadata": {},
   "outputs": [],
   "source": [
    "for index, row in df_respostas.iterrows():\n",
    "    if row[69] in resp_7:\n",
    "        df_id_abrangencia.loc[index, 'Abrang_resp_69'] = df_abrangencia.iloc[6, 69]\n",
    "    if row[69] in resp_6:\n",
    "        df_id_abrangencia.loc[index, 'Abrang_resp_69'] = df_abrangencia.iloc[5, 69]\n",
    "    if row[69] in resp_5:\n",
    "        df_id_abrangencia.loc[index, 'Abrang_resp_69'] = df_abrangencia.iloc[4, 69]\n",
    "    if row[69] in resp_4:\n",
    "        df_id_abrangencia.loc[index, 'Abrang_resp_69'] = df_abrangencia.iloc[3, 69]\n",
    "    if row[69] in resp_123:\n",
    "        df_id_abrangencia.loc[index, 'Abrang_resp_69'] = df_abrangencia.iloc[0, 69]"
   ]
  },
  {
   "cell_type": "code",
   "execution_count": 82,
   "id": "fb1174fc-1d93-4f65-9533-4bb2770403fe",
   "metadata": {},
   "outputs": [],
   "source": [
    "for index, row in df_respostas.iterrows():\n",
    "    if row[70] in resp_7:\n",
    "        df_id_abrangencia.loc[index, 'Abrang_resp_70'] = df_abrangencia.iloc[6, 70]\n",
    "    if row[70] in resp_6:\n",
    "        df_id_abrangencia.loc[index, 'Abrang_resp_70'] = df_abrangencia.iloc[5, 70]\n",
    "    if row[70] in resp_5:\n",
    "        df_id_abrangencia.loc[index, 'Abrang_resp_70'] = df_abrangencia.iloc[4, 70]\n",
    "    if row[70] in resp_4:\n",
    "        df_id_abrangencia.loc[index, 'Abrang_resp_70'] = df_abrangencia.iloc[3, 70]\n",
    "    if row[70] in resp_123:\n",
    "        df_id_abrangencia.loc[index, 'Abrang_resp_70'] = df_abrangencia.iloc[0, 70]"
   ]
  },
  {
   "cell_type": "code",
   "execution_count": 83,
   "id": "b2aa6051-4b4b-41a5-b4b8-fb4e2264dc5c",
   "metadata": {},
   "outputs": [],
   "source": [
    "for index, row in df_respostas.iterrows():\n",
    "    if row[71] in resp_7:\n",
    "        df_id_abrangencia.loc[index, 'Abrang_resp_71'] = df_abrangencia.iloc[6, 71]\n",
    "    if row[71] in resp_6:\n",
    "        df_id_abrangencia.loc[index, 'Abrang_resp_71'] = df_abrangencia.iloc[5, 71]\n",
    "    if row[71] in resp_5:\n",
    "        df_id_abrangencia.loc[index, 'Abrang_resp_71'] = df_abrangencia.iloc[4, 71]\n",
    "    if row[71] in resp_4:\n",
    "        df_id_abrangencia.loc[index, 'Abrang_resp_71'] = df_abrangencia.iloc[3, 71]\n",
    "    if row[71] in resp_123:\n",
    "        df_id_abrangencia.loc[index, 'Abrang_resp_71'] = df_abrangencia.iloc[0, 71]"
   ]
  },
  {
   "cell_type": "code",
   "execution_count": 84,
   "id": "8ede6e8e-1d9f-440b-abbb-3de33c373e4e",
   "metadata": {},
   "outputs": [],
   "source": [
    "for index, row in df_respostas.iterrows():\n",
    "    if row[72] in resp_7:\n",
    "        df_id_abrangencia.loc[index, 'Abrang_resp_72'] = df_abrangencia.iloc[6, 72]\n",
    "    if row[72] in resp_6:\n",
    "        df_id_abrangencia.loc[index, 'Abrang_resp_72'] = df_abrangencia.iloc[5, 72]\n",
    "    if row[72] in resp_5:\n",
    "        df_id_abrangencia.loc[index, 'Abrang_resp_72'] = df_abrangencia.iloc[4, 72]\n",
    "    if row[72] in resp_4:\n",
    "        df_id_abrangencia.loc[index, 'Abrang_resp_72'] = df_abrangencia.iloc[3, 72]\n",
    "    if row[72] in resp_123:\n",
    "        df_id_abrangencia.loc[index, 'Abrang_resp_72'] = df_abrangencia.iloc[0, 72]"
   ]
  },
  {
   "cell_type": "code",
   "execution_count": 85,
   "id": "6454618e-eecd-476e-b45c-9d5a5aaf9f39",
   "metadata": {},
   "outputs": [],
   "source": [
    "for index, row in df_respostas.iterrows():\n",
    "    if row[73] in resp_7:\n",
    "        df_id_abrangencia.loc[index, 'Abrang_resp_73'] = df_abrangencia.iloc[6, 73]\n",
    "    if row[73] in resp_6:\n",
    "        df_id_abrangencia.loc[index, 'Abrang_resp_73'] = df_abrangencia.iloc[5, 73]\n",
    "    if row[73] in resp_5:\n",
    "        df_id_abrangencia.loc[index, 'Abrang_resp_73'] = df_abrangencia.iloc[4, 73]\n",
    "    if row[73] in resp_4:\n",
    "        df_id_abrangencia.loc[index, 'Abrang_resp_73'] = df_abrangencia.iloc[3, 73]\n",
    "    if row[73] in resp_123:\n",
    "        df_id_abrangencia.loc[index, 'Abrang_resp_73'] = df_abrangencia.iloc[0, 73]"
   ]
  },
  {
   "cell_type": "code",
   "execution_count": 86,
   "id": "4aea7fec-46d6-401e-9b55-399a53a3e4ac",
   "metadata": {},
   "outputs": [],
   "source": [
    "for index, row in df_respostas.iterrows():\n",
    "    if row[74] in resp_7:\n",
    "        df_id_abrangencia.loc[index, 'Abrang_resp_74'] = df_abrangencia.iloc[6, 74]\n",
    "    if row[74] in resp_6:\n",
    "        df_id_abrangencia.loc[index, 'Abrang_resp_74'] = df_abrangencia.iloc[5, 74]\n",
    "    if row[74] in resp_5:\n",
    "        df_id_abrangencia.loc[index, 'Abrang_resp_74'] = df_abrangencia.iloc[4, 74]\n",
    "    if row[74] in resp_4:\n",
    "        df_id_abrangencia.loc[index, 'Abrang_resp_74'] = df_abrangencia.iloc[3, 74]\n",
    "    if row[74] in resp_123:\n",
    "        df_id_abrangencia.loc[index, 'Abrang_resp_74'] = df_abrangencia.iloc[0, 74]"
   ]
  },
  {
   "cell_type": "code",
   "execution_count": 87,
   "id": "db838ceb-482d-47f5-8dc1-dc61a802736c",
   "metadata": {
    "tags": []
   },
   "outputs": [],
   "source": [
    "for index, row in df_respostas.iterrows():\n",
    "    if row[75] in resp_7:\n",
    "        df_id_abrangencia.loc[index, 'Abrang_resp_75'] = df_abrangencia.iloc[6, 75]\n",
    "    if row[75] in resp_6:\n",
    "        df_id_abrangencia.loc[index, 'Abrang_resp_75'] = df_abrangencia.iloc[5, 75]\n",
    "    if row[75] in resp_5:\n",
    "        df_id_abrangencia.loc[index, 'Abrang_resp_75'] = df_abrangencia.iloc[4, 75]\n",
    "    if row[75] in resp_4:\n",
    "        df_id_abrangencia.loc[index, 'Abrang_resp_75'] = df_abrangencia.iloc[3, 75]\n",
    "    if row[75] in resp_123:\n",
    "        df_id_abrangencia.loc[index, 'Abrang_resp_75'] = df_abrangencia.iloc[0, 75]"
   ]
  },
  {
   "cell_type": "code",
   "execution_count": 88,
   "id": "a9af3a5f-ec70-4b0b-9b4e-58d78d7d3e17",
   "metadata": {},
   "outputs": [],
   "source": [
    "for index, row in df_respostas.iterrows():\n",
    "    if row[76] in resp_7:\n",
    "        df_id_abrangencia.loc[index, 'Abrang_resp_76'] = df_abrangencia.iloc[6, 76]\n",
    "    if row[76] in resp_6:\n",
    "        df_id_abrangencia.loc[index, 'Abrang_resp_76'] = df_abrangencia.iloc[5, 76]\n",
    "    if row[76] in resp_5:\n",
    "        df_id_abrangencia.loc[index, 'Abrang_resp_76'] = df_abrangencia.iloc[4, 76]\n",
    "    if row[76] in resp_4:\n",
    "        df_id_abrangencia.loc[index, 'Abrang_resp_76'] = df_abrangencia.iloc[3, 76]\n",
    "    if row[76] in resp_123:\n",
    "        df_id_abrangencia.loc[index, 'Abrang_resp_76'] = df_abrangencia.iloc[0, 76]"
   ]
  },
  {
   "cell_type": "code",
   "execution_count": 91,
   "id": "7641f84f-6f90-4c63-8fe4-18f9a8984d55",
   "metadata": {},
   "outputs": [
    {
     "name": "stdout",
     "output_type": "stream",
     "text": [
      "Tabela nova criada com sucesso!\n"
     ]
    }
   ],
   "source": [
    "df_id_abrangencia.to_excel(\"Tabela Nova.xlsx\", index = False)\n",
    "print(\"Tabela nova criada com sucesso!\")"
   ]
  }
 ],
 "metadata": {
  "kernelspec": {
   "display_name": "Python 3 (ipykernel)",
   "language": "python",
   "name": "python3"
  },
  "language_info": {
   "codemirror_mode": {
    "name": "ipython",
    "version": 3
   },
   "file_extension": ".py",
   "mimetype": "text/x-python",
   "name": "python",
   "nbconvert_exporter": "python",
   "pygments_lexer": "ipython3",
   "version": "3.9.13"
  }
 },
 "nbformat": 4,
 "nbformat_minor": 5
}
